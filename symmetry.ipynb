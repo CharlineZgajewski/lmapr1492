{
 "cells": [
  {
   "cell_type": "code",
   "execution_count": 5,
   "id": "amber-phone",
   "metadata": {},
   "outputs": [],
   "source": [
    "from pymatgen.ext.matproj import MPRester\n",
    "from pymatgen import Structure\n",
    "from jupyter_jsmol.pymatgen import quick_view\n",
    "\n",
    "from pymatgen.symmetry.analyzer import SpacegroupAnalyzer\n",
    "\n",
    "from jupyter_jsmol import JsmolView\n",
    "from ipywidgets import Layout, widgets, interact\n",
    "from IPython.display import display\n",
    "\n",
    "import numpy as np"
   ]
  },
  {
   "cell_type": "code",
   "execution_count": 6,
   "id": "looking-steering",
   "metadata": {},
   "outputs": [],
   "source": [
    "with MPRester(\"qqtqIIM2PLMiknnf9nQO\") as m: #Mettre (\"USER_API_KEY\")\n",
    "\n",
    "    mp = \"mp-15687\"\n",
    "    \n",
    "    # Structure for material id\n",
    "    structure = m.get_structure_by_material_id(mp)\n",
    "    \n",
    "    \n",
    "#print (structure)"
   ]
  },
  {
   "cell_type": "code",
   "execution_count": 7,
   "id": "immune-packing",
   "metadata": {},
   "outputs": [],
   "source": [
    "#Obtenir toutes les opérations de symétrie\n",
    "sym = SpacegroupAnalyzer(structure).get_symmetry_operations(cartesian=False)\n",
    "#print(sym)"
   ]
  },
  {
   "cell_type": "code",
   "execution_count": 24,
   "id": "compressed-level",
   "metadata": {},
   "outputs": [
    {
     "name": "stdout",
     "output_type": "stream",
     "text": [
      "Symetrie 1 : (x,y,z) -> (x, y, -z)\n",
      "Application d'un plan miroir\n",
      "Matrices de symétrie: \n",
      " Rot:\n",
      "[[ 1.  0.  0.]\n",
      " [ 0.  1.  0.]\n",
      " [ 0.  0. -1.]]\n",
      "tau\n",
      "[0. 0. 0.]\n"
     ]
    }
   ],
   "source": [
    "#Symetrie 1 : (x,y,z) -> (x, y, -z)\n",
    "print(\"Symetrie 1 : (x,y,z) -> (x, y, -z)\")\n",
    "print(\"Application d'un plan miroir\")\n",
    "print(\"Matrices de symétrie: \\n\",sym[3])"
   ]
  },
  {
   "cell_type": "markdown",
   "id": "ecological-architect",
   "metadata": {},
   "source": [
    "Equations: \n",
    "\n",
    "A =\\begin{pmatrix} \n",
    "    1 & 0 & 0 \\\\ \n",
    "    0 & 1 & 0 \\\\ \n",
    "    0 & 0 & -1 \\\\\n",
    "\\end{pmatrix}\n",
    "\n",
    "B = \n",
    "\\begin{pmatrix} \n",
    "    x \\\\ \n",
    "    y \\\\ \n",
    "    z \\\\\n",
    "\\end{pmatrix}\n",
    "A * B = C\n",
    "\n",
    "C =\\begin{pmatrix} \n",
    "    x \\\\ \n",
    "    y \\\\ \n",
    "    -z \\\\\n",
    "\\end{pmatrix}"
   ]
  },
  {
   "cell_type": "code",
   "execution_count": 25,
   "id": "terminal-refund",
   "metadata": {},
   "outputs": [],
   "source": [
    "##Atome 1 = K"
   ]
  },
  {
   "cell_type": "markdown",
   "id": "prerequisite-inquiry",
   "metadata": {},
   "source": [
    "Application à la quatrième molécule K:\n",
    "position de la molécule: (x = 4.261Å, y=0,z=4.261Å)\n",
    "Nouvelle position: (x = 4.261Å, y=4.261Å,z=-4.261Å)"
   ]
  },
  {
   "cell_type": "code",
   "execution_count": 26,
   "id": "visible-crossing",
   "metadata": {},
   "outputs": [
    {
     "data": {
      "application/vnd.jupyter.widget-view+json": {
       "model_id": "34ee8e675ece43c4b0772a10f8a9757b",
       "version_major": 2,
       "version_minor": 0
      },
      "text/plain": [
       "JsmolView(layout=Layout(align_self='stretch', height='400px'))"
      ]
     },
     "metadata": {},
     "output_type": "display_data"
    }
   ],
   "source": [
    "view = quick_view(structure, \"packed\")\n",
    "display(view)\n",
    "view.script(\"draw symop 4 {atomno = 6}\")"
   ]
  },
  {
   "cell_type": "code",
   "execution_count": 7,
   "id": "interstate-knitting",
   "metadata": {},
   "outputs": [
    {
     "name": "stdout",
     "output_type": "stream",
     "text": [
      "x, y, -z\n",
      "Matrice de symétrie: Rot:\n",
      "[[ 1.  0.  0.]\n",
      " [ 0.  1.  0.]\n",
      " [ 0.  0. -1.]]\n",
      "tau\n",
      "[0. 0. 0.]\n"
     ]
    },
    {
     "data": {
      "application/vnd.jupyter.widget-view+json": {
       "model_id": "0cb3b63e368d4ce38cd0cae861383b99",
       "version_major": 2,
       "version_minor": 0
      },
      "text/plain": [
       "JsmolView(layout=Layout(align_self='stretch', height='400px'))"
      ]
     },
     "metadata": {},
     "output_type": "display_data"
    }
   ],
   "source": [
    "#Symmetrie 1 : (x,y,z) -> (x, y, -z)\n",
    "\n",
    "#Atome 2 = Zn\n",
    "\n",
    "print('x, y, -z')\n",
    "print(\"Matrice de symétrie:\",sym[3])\n",
    "#Changement de signe -> Plan miroir\"\n",
    "view = quick_view(structure, \"packed\")\n",
    "display(view)\n",
    "view.script(\"draw symop 4 {atomno = 2}\")"
   ]
  },
  {
   "cell_type": "code",
   "execution_count": 8,
   "id": "grateful-sunrise",
   "metadata": {},
   "outputs": [
    {
     "name": "stdout",
     "output_type": "stream",
     "text": [
      "x, y, -z\n",
      "Matrice de symétrie: Rot:\n",
      "[[ 1.  0.  0.]\n",
      " [ 0.  1.  0.]\n",
      " [ 0.  0. -1.]]\n",
      "tau\n",
      "[0. 0. 0.]\n"
     ]
    },
    {
     "data": {
      "application/vnd.jupyter.widget-view+json": {
       "model_id": "2f43538d8f17410fbe66f29c68c83496",
       "version_major": 2,
       "version_minor": 0
      },
      "text/plain": [
       "JsmolView(layout=Layout(align_self='stretch', height='400px'))"
      ]
     },
     "metadata": {},
     "output_type": "display_data"
    }
   ],
   "source": [
    "#Symmetrie 1 : (x,y,z) -> (x, y, -z)\n",
    "\n",
    "#Atome 3 = As\n",
    "\n",
    "print('x, y, -z')\n",
    "print(\"Matrice de symétrie:\",sym[3])\n",
    "#Changement de signe -> Plan miroir\"\n",
    "view = quick_view(structure, \"packed\")\n",
    "display(view)\n",
    "view.script(\"draw symop 4 {atomno = 3}\")"
   ]
  },
  {
   "cell_type": "code",
   "execution_count": 9,
   "id": "naval-textbook",
   "metadata": {
    "scrolled": true
   },
   "outputs": [
    {
     "name": "stdout",
     "output_type": "stream",
     "text": [
      "x, x-y, z\n",
      "Matrice de symétrie: Rot:\n",
      "[[ 1.  0.  0.]\n",
      " [ 1. -1.  0.]\n",
      " [ 0.  0.  1.]]\n",
      "tau\n",
      "[0. 0. 0.]\n"
     ]
    },
    {
     "data": {
      "application/vnd.jupyter.widget-view+json": {
       "model_id": "720ce33bbdfb43d6b72f141522f33b05",
       "version_major": 2,
       "version_minor": 0
      },
      "text/plain": [
       "JsmolView(layout=Layout(align_self='stretch', height='400px'))"
      ]
     },
     "metadata": {},
     "output_type": "display_data"
    }
   ],
   "source": [
    "#Symétrie 2: (x, y, z) -> (x, x-y, z)\n",
    "\n",
    "#Atome 1 = K\n",
    "\n",
    "print('x, x-y, z')\n",
    "print(\"Matrice de symétrie:\",sym[7])\n",
    "view = quick_view(structure, \"packed\")\n",
    "display(view)\n",
    "view.script(\"draw symop 8 {atomno = 6}\")"
   ]
  },
  {
   "cell_type": "code",
   "execution_count": 10,
   "id": "mounted-stupid",
   "metadata": {},
   "outputs": [
    {
     "name": "stdout",
     "output_type": "stream",
     "text": [
      "x, x-y, z\n",
      "Matrice de symétrie: Rot:\n",
      "[[ 1.  0.  0.]\n",
      " [ 1. -1.  0.]\n",
      " [ 0.  0.  1.]]\n",
      "tau\n",
      "[0. 0. 0.]\n"
     ]
    },
    {
     "data": {
      "application/vnd.jupyter.widget-view+json": {
       "model_id": "3f6eaf6c47d54c76ac92a837ce26d7b8",
       "version_major": 2,
       "version_minor": 0
      },
      "text/plain": [
       "JsmolView(layout=Layout(align_self='stretch', height='400px'))"
      ]
     },
     "metadata": {},
     "output_type": "display_data"
    }
   ],
   "source": [
    "#Symétrie 2: (x, y, z) -> (x, x-y, z)\n",
    "\n",
    "#Atome 2 = Zn\n",
    "\n",
    "print('x, x-y, z')\n",
    "print(\"Matrice de symétrie:\",sym[7])\n",
    "view = quick_view(structure, \"packed\")\n",
    "display(view)\n",
    "view.script(\"draw symop 8 {atomno = 2}\")"
   ]
  },
  {
   "cell_type": "code",
   "execution_count": 11,
   "id": "fitting-difference",
   "metadata": {},
   "outputs": [
    {
     "name": "stdout",
     "output_type": "stream",
     "text": [
      "-y, -x, z\n",
      "Matrice de symétrie: Rot:\n",
      "[[ 0. -1.  0.]\n",
      " [-1.  0.  0.]\n",
      " [ 0.  0.  1.]]\n",
      "tau\n",
      "[0. 0. 0.]\n"
     ]
    },
    {
     "data": {
      "application/vnd.jupyter.widget-view+json": {
       "model_id": "f056041c18634fb5b1c9fb65325f7ac4",
       "version_major": 2,
       "version_minor": 0
      },
      "text/plain": [
       "JsmolView(layout=Layout(align_self='stretch', height='400px'))"
      ]
     },
     "metadata": {},
     "output_type": "display_data"
    }
   ],
   "source": [
    "#Symétrie 3: (x, y, z) -> (-y, -x, z)\n",
    "\n",
    "#Atome 1 = K\n",
    "\n",
    "print('-y, -x, z')\n",
    "print(\"Matrice de symétrie:\",sym[9])\n",
    "view = quick_view(structure, \"packed\")\n",
    "display(view)\n",
    "view.script(\"draw symop 10 {atomno = 6}\")"
   ]
  },
  {
   "cell_type": "code",
   "execution_count": 12,
   "id": "geographic-corporation",
   "metadata": {},
   "outputs": [
    {
     "name": "stdout",
     "output_type": "stream",
     "text": [
      "-y, -x, z\n",
      "Matrice de symétrie: Rot:\n",
      "[[ 0. -1.  0.]\n",
      " [-1.  0.  0.]\n",
      " [ 0.  0.  1.]]\n",
      "tau\n",
      "[0. 0. 0.]\n"
     ]
    },
    {
     "data": {
      "application/vnd.jupyter.widget-view+json": {
       "model_id": "73b72b5142aa49309264458acf152973",
       "version_major": 2,
       "version_minor": 0
      },
      "text/plain": [
       "JsmolView(layout=Layout(align_self='stretch', height='400px'))"
      ]
     },
     "metadata": {},
     "output_type": "display_data"
    }
   ],
   "source": [
    "#Symétrie 3: (x, y, z) -> (-y, -x, z)\n",
    "\n",
    "#Atome 2 = Zn\n",
    "\n",
    "print('-y, -x, z')\n",
    "print(\"Matrice de symétrie:\",sym[9])\n",
    "view = quick_view(structure, \"packed\")\n",
    "display(view)\n",
    "view.script(\"draw symop 10 {atomno = 2}\")"
   ]
  },
  {
   "cell_type": "code",
   "execution_count": 13,
   "id": "affiliated-transfer",
   "metadata": {},
   "outputs": [
    {
     "name": "stdout",
     "output_type": "stream",
     "text": [
      "-y, -x, z\n",
      "Matrice de symétrie: Rot:\n",
      "[[ 0. -1.  0.]\n",
      " [-1.  0.  0.]\n",
      " [ 0.  0.  1.]]\n",
      "tau\n",
      "[0. 0. 0.]\n"
     ]
    },
    {
     "data": {
      "application/vnd.jupyter.widget-view+json": {
       "model_id": "c366a51edd804ba592521566d81cbf62",
       "version_major": 2,
       "version_minor": 0
      },
      "text/plain": [
       "JsmolView(layout=Layout(align_self='stretch', height='400px'))"
      ]
     },
     "metadata": {},
     "output_type": "display_data"
    }
   ],
   "source": [
    "#Symétrie 3: (x, y, z) -> (-y, -x, z)\n",
    "\n",
    "#Atome 3 = As\n",
    "\n",
    "print('-y, -x, z')\n",
    "print(\"Matrice de symétrie:\",sym[9])\n",
    "view = quick_view(structure, \"packed\")\n",
    "display(view)\n",
    "view.script(\"draw symop 10 {atomno = 3}\")"
   ]
  }
 ],
 "metadata": {
  "kernelspec": {
   "display_name": "Python 3",
   "language": "python",
   "name": "python3"
  },
  "language_info": {
   "codemirror_mode": {
    "name": "ipython",
    "version": 3
   },
   "file_extension": ".py",
   "mimetype": "text/x-python",
   "name": "python",
   "nbconvert_exporter": "python",
   "pygments_lexer": "ipython3",
   "version": "3.6.8"
  }
 },
 "nbformat": 4,
 "nbformat_minor": 5
}
