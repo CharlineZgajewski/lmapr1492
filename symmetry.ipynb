{
 "cells": [
  {
   "cell_type": "code",
   "execution_count": 73,
   "id": "amber-phone",
   "metadata": {},
   "outputs": [],
   "source": [
    "from pymatgen.ext.matproj import MPRester\n",
    "from pymatgen import Structure\n",
    "from jupyter_jsmol.pymatgen import quick_view\n",
    "\n",
    "from pymatgen.symmetry.analyzer import SpacegroupAnalyzer\n",
    "\n",
    "from jupyter_jsmol import JsmolView\n",
    "from ipywidgets import Layout, widgets, interact\n",
    "from IPython.display import display\n",
    "\n",
    "import numpy as np"
   ]
  },
  {
   "cell_type": "code",
   "execution_count": 74,
   "id": "looking-steering",
   "metadata": {},
   "outputs": [],
   "source": [
    "with MPRester(\"qqtqIIM2PLMiknnf9nQO\") as m: #Mettre (\"USER_API_KEY\")\n",
    "\n",
    "    mp = \"mp-15687\"\n",
    "    \n",
    "    # Structure for material id\n",
    "    structure = m.get_structure_by_material_id(mp)\n",
    "    \n",
    "    \n",
    "#print (structure)"
   ]
  },
  {
   "cell_type": "code",
   "execution_count": 53,
   "id": "immune-packing",
   "metadata": {},
   "outputs": [],
   "source": [
    "#Obtenir toutes les opérations de symétrie\n",
    "sym = SpacegroupAnalyzer(structure).get_symmetry_operations(cartesian=False)\n",
    "#print(sym)"
   ]
  },
  {
   "cell_type": "code",
   "execution_count": 75,
   "id": "embedded-provision",
   "metadata": {
    "scrolled": true
   },
   "outputs": [
    {
     "name": "stdout",
     "output_type": "stream",
     "text": [
      "Symetrie 1 : (x,y,z) -> (x,y,-z)\n",
      "Application d'un plan miroir -> Réflexion par rapport au plan(x,y)\n",
      "Matrices de symétrie: \n",
      " Rot:\n",
      "[[ 1.  0.  0.]\n",
      " [ 0.  1.  0.]\n",
      " [ 0.  0. -1.]]\n",
      "tau\n",
      "[0. 0. 0.]\n"
     ]
    }
   ],
   "source": [
    "#Symetrie 1 : (x,y,z) -> (x, y, -z)\n",
    "print(\"Symetrie 1 : (x,y,z) -> (x,y,-z)\")\n",
    "print(\"Application d'un plan miroir -> Réflexion par rapport au plan(x,y)\")# Miroir = Roto-Inversion d'ordre 2\n",
    "print(\"Matrices de symétrie: \\n\",sym[3])"
   ]
  },
  {
   "cell_type": "markdown",
   "id": "ranging-remove",
   "metadata": {},
   "source": [
    "Equations: \n",
    "\n",
    "A =\\begin{pmatrix} \n",
    "    1 & 0 & 0 \\\\ \n",
    "    0 & 1 & 0 \\\\ \n",
    "    0 & 0 & -1 \\\\\n",
    "\\end{pmatrix}\n",
    "\n",
    "B = \n",
    "\\begin{pmatrix} \n",
    "    x \\\\ \n",
    "    y \\\\ \n",
    "    z \\\\\n",
    "\\end{pmatrix}\n",
    "A * B = C\n",
    "\n",
    "C =\\begin{pmatrix} \n",
    "    x \\\\ \n",
    "    y \\\\ \n",
    "    -z \\\\\n",
    "\\end{pmatrix}"
   ]
  },
  {
   "cell_type": "code",
   "execution_count": 76,
   "id": "equivalent-liability",
   "metadata": {},
   "outputs": [
    {
     "name": "stdout",
     "output_type": "stream",
     "text": [
      "Atome 1 = K\n",
      "Application au quatrième atome K:\n",
      "Position de l'atome: (x = 0, y = 0, z = 1)\n",
      "Nouvelle position (position équivalente): (x = 0, y = 0, z = -1)\n"
     ]
    },
    {
     "data": {
      "application/vnd.jupyter.widget-view+json": {
       "model_id": "0025ade1ddb7488dbef919e551740b77",
       "version_major": 2,
       "version_minor": 0
      },
      "text/plain": [
       "JsmolView(layout=Layout(align_self='stretch', height='400px'))"
      ]
     },
     "metadata": {},
     "output_type": "display_data"
    }
   ],
   "source": [
    "#Symmetrie 1 : (x,y,z) -> (x,y,-z)\n",
    "#Atome 1 = K\n",
    "print(\"Atome 1 = K\")\n",
    "print(\"Application au quatrième atome K:\")\n",
    "print(\"Position de l'atome: (x = 0, y = 0, z = 1)\")\n",
    "print(\"Nouvelle position (position équivalente): (x = 0, y = 0, z = -1)\")\n",
    "view = quick_view(structure, \"packed\")\n",
    "display(view)\n",
    "view.script(\"draw symop 4 {atomno = 4}\")"
   ]
  },
  {
   "cell_type": "code",
   "execution_count": 59,
   "id": "interstate-knitting",
   "metadata": {},
   "outputs": [
    {
     "name": "stdout",
     "output_type": "stream",
     "text": [
      "Atome 2 = Zn\n",
      "Application à l'atome Zn:\n",
      "Position de l'atome: (x = 0.33333, y=0.66667,z=0.5))\n",
      "Nouvelle position (position équivalente): (x = 0.33333, y = 0.66667, z = -0.5)\n"
     ]
    },
    {
     "data": {
      "application/vnd.jupyter.widget-view+json": {
       "model_id": "beb0a805fedb4d71915b92080200c8f5",
       "version_major": 2,
       "version_minor": 0
      },
      "text/plain": [
       "JsmolView(layout=Layout(align_self='stretch', height='400px'))"
      ]
     },
     "metadata": {},
     "output_type": "display_data"
    }
   ],
   "source": [
    "#Symmetrie 1 : (x,y,z) -> (x,y,-z)\n",
    "#Atome 2 = Zn\n",
    "\n",
    "print(\"Atome 2 = Zn\")\n",
    "print(\"Application à l'atome Zn:\")\n",
    "print(\"Position de l'atome: (x = 0.33333, y=0.66667,z=0.5))\")\n",
    "print(\"Nouvelle position (position équivalente): (x = 0.33333, y = 0.66667, z = -0.5)\")\n",
    "view = quick_view(structure, \"packed\")\n",
    "display(view)\n",
    "view.script(\"draw symop 4 {atomno = 2}\")"
   ]
  },
  {
   "cell_type": "code",
   "execution_count": 77,
   "id": "grateful-sunrise",
   "metadata": {},
   "outputs": [
    {
     "name": "stdout",
     "output_type": "stream",
     "text": [
      "Atome 3 = As\n",
      "Application à l'atome As:\n",
      "Position de l'atome: (x = 0.66667, y = 0.33333, z = 0.5)\n",
      "Nouvelle position (position équivalente): (x = 0.66667, y = 0.33333, z = -0.5)\n"
     ]
    },
    {
     "data": {
      "application/vnd.jupyter.widget-view+json": {
       "model_id": "13237947937542448098dc4faedb52ca",
       "version_major": 2,
       "version_minor": 0
      },
      "text/plain": [
       "JsmolView(layout=Layout(align_self='stretch', height='400px'))"
      ]
     },
     "metadata": {},
     "output_type": "display_data"
    }
   ],
   "source": [
    "#Symmetrie 1 : (x,y,z) -> (x,y,-z)\n",
    "#Atome 3 = As\n",
    "\n",
    "print(\"Atome 3 = As\")\n",
    "print(\"Application à l'atome As:\")\n",
    "print(\"Position de l'atome: (x = 0.66667, y = 0.33333, z = 0.5)\")\n",
    "print(\"Nouvelle position (position équivalente): (x = 0.66667, y = 0.33333, z = -0.5)\")\n",
    "view = quick_view(structure, \"packed\")\n",
    "display(view)\n",
    "view.script(\"draw symop 4 {atomno = 3}\")"
   ]
  },
  {
   "cell_type": "code",
   "execution_count": 61,
   "id": "naval-textbook",
   "metadata": {
    "scrolled": true
   },
   "outputs": [
    {
     "name": "stdout",
     "output_type": "stream",
     "text": [
      "Symetrie 2 : (x,y,z) -> (x, x-y, z)\n",
      "Application d'un plan miroir + inversion d'ordre 2\n",
      "Matrices de symétrie: \n",
      " Rot:\n",
      "[[ 1.  0.  0.]\n",
      " [ 1. -1.  0.]\n",
      " [ 0.  0.  1.]]\n",
      "tau\n",
      "[0. 0. 0.]\n"
     ]
    }
   ],
   "source": [
    "#Symétrie 2: (x, y, z) -> (x, x-y, z)\n",
    "\n",
    "print(\"Symetrie 2 : (x,y,z) -> (x, x-y, z)\")\n",
    "print(\"Application d'un plan miroir + inversion d'ordre 2\")\n",
    "print(\"Matrices de symétrie: \\n\",sym[7])"
   ]
  },
  {
   "cell_type": "markdown",
   "id": "judicial-physics",
   "metadata": {},
   "source": [
    "Equations: \n",
    "\n",
    "A =\\begin{pmatrix} \n",
    "    1 & 0 & 0 \\\\ \n",
    "    1 & -1 & 0 \\\\ \n",
    "    0 & 0 & 1 \\\\\n",
    "\\end{pmatrix}\n",
    "\n",
    "B = \n",
    "\\begin{pmatrix} \n",
    "    x \\\\ \n",
    "    y \\\\ \n",
    "    z \\\\\n",
    "\\end{pmatrix}\n",
    "A * B = C\n",
    "\n",
    "C =\\begin{pmatrix} \n",
    "    x \\\\ \n",
    "    x-y \\\\ \n",
    "    z \\\\\n",
    "\\end{pmatrix}"
   ]
  },
  {
   "cell_type": "code",
   "execution_count": 66,
   "id": "congressional-blake",
   "metadata": {},
   "outputs": [
    {
     "name": "stdout",
     "output_type": "stream",
     "text": [
      "Atome 1 = K\n",
      "Application au quatrième atome K:\n",
      "Position de la molécule: (x = 0, y = 1, z = 1)\n",
      "Nouvelle position (position équivalente): (x = 0, y = -1, z = 1)\n"
     ]
    },
    {
     "data": {
      "application/vnd.jupyter.widget-view+json": {
       "model_id": "c27ff2d7083649ecae5a27557d949141",
       "version_major": 2,
       "version_minor": 0
      },
      "text/plain": [
       "JsmolView(layout=Layout(align_self='stretch', height='400px'))"
      ]
     },
     "metadata": {},
     "output_type": "display_data"
    }
   ],
   "source": [
    "#Symétrie 2\n",
    "##Atome 1 = K\n",
    "print(\"Atome 1 = K\")\n",
    "print(\"Application au quatrième atome K:\")\n",
    "print(\"Position de la molécule: (x = 0, y = 1, z = 1)\")\n",
    "print(\"Nouvelle position (position équivalente): (x = 0, y = -1, z = 1)\")\n",
    "view = quick_view(structure, \"packed\")\n",
    "display(view)\n",
    "view.script(\"draw symop 8 {atomno = 6}\")"
   ]
  },
  {
   "cell_type": "code",
   "execution_count": 67,
   "id": "mounted-stupid",
   "metadata": {},
   "outputs": [
    {
     "name": "stdout",
     "output_type": "stream",
     "text": [
      "Atome 2 = Zn\n",
      "Application à l'atome Zn:\n",
      "Position de l'atome: (x = 0.33333, y=0.66667,z=0.5))\n",
      "Nouvelle position (position équivalente): (x = 0.33333, y = 0.33334, z = 0.5)\n"
     ]
    },
    {
     "data": {
      "application/vnd.jupyter.widget-view+json": {
       "model_id": "29caa853fc4e40d9821c6546fee78ba5",
       "version_major": 2,
       "version_minor": 0
      },
      "text/plain": [
       "JsmolView(layout=Layout(align_self='stretch', height='400px'))"
      ]
     },
     "metadata": {},
     "output_type": "display_data"
    }
   ],
   "source": [
    "#Symmetrie 2 : (x,y,z) -> (x, x-y, z)\n",
    "#Atome 2 = Zn\n",
    "\n",
    "print(\"Atome 2 = Zn\")\n",
    "print(\"Application à l'atome Zn:\")\n",
    "print(\"Position de l'atome: (x = 0.33333, y=0.66667,z=0.5))\")\n",
    "print(\"Nouvelle position (position équivalente): (x = 0.33333, y = 0.33334, z = 0.5)\")\n",
    "view = quick_view(structure, \"packed\")\n",
    "display(view)\n",
    "view.script(\"draw symop 8 {atomno = 2}\")"
   ]
  },
  {
   "cell_type": "code",
   "execution_count": 68,
   "id": "taken-immunology",
   "metadata": {},
   "outputs": [
    {
     "name": "stdout",
     "output_type": "stream",
     "text": [
      "Atome 3 = As\n",
      "Application à l'atome As:\n",
      "Position de l'atome: (x = 0.66667, y = 0.33333, z = 0.5)\n",
      "Nouvelle position (position équivalente): (x = 0.66667, y = 0.33334, z = 0.5)\n"
     ]
    },
    {
     "data": {
      "application/vnd.jupyter.widget-view+json": {
       "model_id": "b2f06814dcbe4dca840cccd0d17c292f",
       "version_major": 2,
       "version_minor": 0
      },
      "text/plain": [
       "JsmolView(layout=Layout(align_self='stretch', height='400px'))"
      ]
     },
     "metadata": {},
     "output_type": "display_data"
    }
   ],
   "source": [
    "#Symmetrie 2 : (x,y,z) -> (x, x-y, z)\n",
    "#Atome 3 = As\n",
    "print(\"Atome 3 = As\")\n",
    "print(\"Application à l'atome As:\")\n",
    "print(\"Position de l'atome: (x = 0.66667, y = 0.33333, z = 0.5)\")\n",
    "print(\"Nouvelle position (position équivalente): (x = 0.66667, y = 0.33334, z = 0.5)\")\n",
    "view = quick_view(structure, \"packed\")\n",
    "display(view)\n",
    "view.script(\"draw symop 8 {atomno = 3}\")"
   ]
  },
  {
   "cell_type": "code",
   "execution_count": 69,
   "id": "fitting-difference",
   "metadata": {},
   "outputs": [
    {
     "name": "stdout",
     "output_type": "stream",
     "text": [
      "Symetrie 3 : (x,y,z) -> (-y, -x, z))\n",
      "Inversion d'ordre 2\n",
      "Matrices de symétrie: \n",
      " Rot:\n",
      "[[ 0. -1.  0.]\n",
      " [-1.  0.  0.]\n",
      " [ 0.  0.  1.]]\n",
      "tau\n",
      "[0. 0. 0.]\n"
     ]
    }
   ],
   "source": [
    "#Symetrie 3 : (x,y,z) -> (-y, -x, z)\n",
    "print(\"Symetrie 3 : (x,y,z) -> (-y, -x, z))\")\n",
    "print(\"Inversion d'ordre 2 § plan miroir\")\n",
    "print(\"Matrices de symétrie: \\n\",sym[9])"
   ]
  },
  {
   "cell_type": "markdown",
   "id": "convertible-ceremony",
   "metadata": {},
   "source": [
    "Equations: \n",
    "\n",
    "A =\\begin{pmatrix} \n",
    "    0 & -1 & 0 \\\\ \n",
    "    -1 & 0 & 0 \\\\ \n",
    "    0 & 0 & 1 \\\\\n",
    "\\end{pmatrix}\n",
    "\n",
    "B = \n",
    "\\begin{pmatrix} \n",
    "    x \\\\ \n",
    "    y \\\\ \n",
    "    z \\\\\n",
    "\\end{pmatrix}\n",
    "A * B = C\n",
    "\n",
    "C =\\begin{pmatrix} \n",
    "    -y \\\\ \n",
    "    -x \\\\ \n",
    "    z \\\\\n",
    "\\end{pmatrix}"
   ]
  },
  {
   "cell_type": "code",
   "execution_count": 70,
   "id": "revised-belfast",
   "metadata": {},
   "outputs": [
    {
     "name": "stdout",
     "output_type": "stream",
     "text": [
      "Atome 1 = K\n",
      "Application au dixième atome K:\n",
      "Position de l'atome: (x =1, y = 1, z =1)\n",
      "Nouvelle position (position équivalente): (x = -1, y = -1, z = 1)\n"
     ]
    },
    {
     "data": {
      "application/vnd.jupyter.widget-view+json": {
       "model_id": "b8e9599d7f9b47658eae9bfbaaf2b933",
       "version_major": 2,
       "version_minor": 0
      },
      "text/plain": [
       "JsmolView(layout=Layout(align_self='stretch', height='400px'))"
      ]
     },
     "metadata": {},
     "output_type": "display_data"
    }
   ],
   "source": [
    "#Symétrie 3\n",
    "#Atome 1 = K\n",
    "print(\"Atome 1 = K\")\n",
    "print(\"Application au dixième atome K:\")\n",
    "print(\"Position de l'atome: (x =1, y = 1, z =1)\")\n",
    "print(\"Nouvelle position (position équivalente): (x = -1, y = -1, z = 1)\")\n",
    "view = quick_view(structure, \"packed\")\n",
    "display(view)\n",
    "view.script(\"draw symop 10 {atomno = 10}\")"
   ]
  },
  {
   "cell_type": "code",
   "execution_count": 71,
   "id": "geographic-corporation",
   "metadata": {},
   "outputs": [
    {
     "name": "stdout",
     "output_type": "stream",
     "text": [
      "Atome 2 = Zn\n",
      "Application à l'atome Zn:\n",
      "Position de l'atome: (x = 0.33333, y = 0.66667, z = 0.5))\n",
      "Nouvelle position (position équivalente): (x = -0.66667, y = -0.33337, z = 0.5)\n"
     ]
    },
    {
     "data": {
      "application/vnd.jupyter.widget-view+json": {
       "model_id": "f81134ea69ae4367b0599a1ea405848e",
       "version_major": 2,
       "version_minor": 0
      },
      "text/plain": [
       "JsmolView(layout=Layout(align_self='stretch', height='400px'))"
      ]
     },
     "metadata": {},
     "output_type": "display_data"
    }
   ],
   "source": [
    "#Symétrie 3: (x, y, z) -> (-y, -x, z)\n",
    "#Atome 2 = Zn\n",
    "\n",
    "print(\"Atome 2 = Zn\")\n",
    "print(\"Application à l'atome Zn:\")\n",
    "print(\"Position de l'atome: (x = 0.33333, y = 0.66667, z = 0.5))\")\n",
    "print(\"Nouvelle position (position équivalente): (x = -0.66667, y = -0.33337, z = 0.5)\")\n",
    "\n",
    "view = quick_view(structure, \"packed\")\n",
    "display(view)\n",
    "view.script(\"draw symop 10 {atomno = 2}\")"
   ]
  },
  {
   "cell_type": "code",
   "execution_count": 72,
   "id": "affiliated-transfer",
   "metadata": {},
   "outputs": [
    {
     "name": "stdout",
     "output_type": "stream",
     "text": [
      "Atome 3 = As\n",
      "Application à l'atome As:\n",
      "Position de l'atome: (x = 0.66667, y = 0.33333, z = 0.5)\n",
      "Nouvelle position (position équivalente): (x = -0.33333, y = -0.66667, z = 0.5)\n"
     ]
    },
    {
     "data": {
      "application/vnd.jupyter.widget-view+json": {
       "model_id": "c373cf5487744251b24f818cf652e082",
       "version_major": 2,
       "version_minor": 0
      },
      "text/plain": [
       "JsmolView(layout=Layout(align_self='stretch', height='400px'))"
      ]
     },
     "metadata": {},
     "output_type": "display_data"
    }
   ],
   "source": [
    "#Symétrie 3: (x, y, z) -> (-y, -x, z)\n",
    "#Atome 3 = As\n",
    "\n",
    "print(\"Atome 3 = As\")\n",
    "print(\"Application à l'atome As:\")\n",
    "print(\"Position de l'atome: (x = 0.66667, y = 0.33333, z = 0.5)\")\n",
    "print(\"Nouvelle position (position équivalente): (x = -0.33333, y = -0.66667, z = 0.5)\")\n",
    "view = quick_view(structure, \"packed\")\n",
    "display(view)\n",
    "view.script(\"draw symop 10 {atomno = 3}\")"
   ]
  }
 ],
 "metadata": {
  "kernelspec": {
   "display_name": "Python 3",
   "language": "python",
   "name": "python3"
  },
  "language_info": {
   "codemirror_mode": {
    "name": "ipython",
    "version": 3
   },
   "file_extension": ".py",
   "mimetype": "text/x-python",
   "name": "python",
   "nbconvert_exporter": "python",
   "pygments_lexer": "ipython3",
   "version": "3.6.8"
  }
 },
 "nbformat": 4,
 "nbformat_minor": 5
}
