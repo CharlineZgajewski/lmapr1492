{
 "cells": [
  {
   "cell_type": "code",
   "execution_count": 108,
   "id": "filled-georgia",
   "metadata": {},
   "outputs": [],
   "source": [
    "from pymatgen import Lattice, Structure, Molecule\n",
    "from pymatgen.ext.matproj import MPRester\n",
    "from pymatgen import Structure\n",
    "from jupyter_jsmol.pymatgen import quick_view\n",
    "\n",
    "from pymatgen.symmetry.analyzer import SpacegroupAnalyzer\n",
    "from pymatgen.core.lattice import Lattice\n"
   ]
  },
  {
   "cell_type": "code",
   "execution_count": 109,
   "id": "mighty-ballot",
   "metadata": {},
   "outputs": [],
   "source": [
    "with MPRester(\"qqtqIIM2PLMiknnf9nQO\") as m: #Mettre (\"USER_API_KEY\")\n",
    "\n",
    "    mp = \"mp-15687\"\n",
    "    \n",
    "    # Structure for material id\n",
    "    structure = m.get_structure_by_material_id(mp)\n",
    "\n",
    "    # Dos for material id\n",
    "    dos = m.get_dos_by_material_id(mp)\n",
    "\n",
    "    # Bandstructure for material id\n",
    "    bandstructure = m.get_bandstructure_by_material_id(mp)\n",
    "    \n",
    "    \n",
    "    \n",
    "#print (structure)\n",
    "#print(dos)\n",
    "#print(bandstructure)\n",
    "#view = quick_view(structure)\n",
    "#display(view)\n",
    "#view.script(\"draw symop 5 {atomno = 3}\")"
   ]
  },
  {
   "cell_type": "code",
   "execution_count": 104,
   "id": "introductory-conclusion",
   "metadata": {},
   "outputs": [],
   "source": [
    "#Matériau:\n",
    "mp = \"mp-15687\""
   ]
  },
  {
   "cell_type": "code",
   "execution_count": 111,
   "id": "universal-editing",
   "metadata": {},
   "outputs": [
    {
     "name": "stdout",
     "output_type": "stream",
     "text": [
      "Les vecteurs de base du réseau direct:\n",
      " \n",
      "2.130580 -3.690272 0.000000\n",
      "2.130580 3.690272 0.000000\n",
      "0.000000 0.000000 5.259527\n",
      " \n",
      "Les longueurs de base du réseau direct\n",
      " \n",
      "a = 4.261159298874428\n",
      "b = 4.261159298874428\n",
      "c = 5.259527\n"
     ]
    }
   ],
   "source": [
    "#Vecteurs du réseau direct\n",
    "\n",
    "vect_dir = structure.lattice\n",
    "print(\"Les vecteurs de base du réseau direct:\")\n",
    "print(\" \")\n",
    "print(vect_dir)\n",
    "print(\" \")\n",
    "print(\"Les longueurs de base du réseau direct:\")\n",
    "print(\" \")\n",
    "print(\"a =\",vect_dir.a)\n",
    "print(\"b =\",vect_dir.b)\n",
    "print(\"c =\",vect_dir.c)\n",
    "#print(structure)"
   ]
  },
  {
   "cell_type": "code",
   "execution_count": 112,
   "id": "naval-player",
   "metadata": {},
   "outputs": [
    {
     "name": "stdout",
     "output_type": "stream",
     "text": [
      "Vecteurs de base du réseau réciproque :\n",
      " \n",
      "1.474525 -0.851317 0.000000\n",
      "1.474525 0.851317 0.000000\n",
      "0.000000 0.000000 1.194629\n",
      " \n",
      "Les longueurs des vecteurs de base du réseau réciproque: \n",
      " \n",
      "a* =  1.7026344598318688\n",
      "b* =  1.7026344598318688\n",
      "c* =  1.1946293473119514\n",
      " \n",
      "Vecteurs de base du réseau réciproque cristallographique : \n",
      "0.234678 -0.135491 0.000000\n",
      "0.234678 0.135491 0.000000\n",
      "0.000000 0.000000 0.190131\n"
     ]
    }
   ],
   "source": [
    "#vecteur du reseau reciproque (réseau réciproque standard utilisé pour la physique du solide avec un facteur de 2 * pi)\n",
    "vect_recip_standard = structure.lattice.reciprocal_lattice\n",
    "print(\"Vecteurs de base du réseau réciproque :\\n \")\n",
    "print(vect_recip_standard)\n",
    "print(\" \")\n",
    "print(\"Les longueurs des vecteurs de base du réseau réciproque: \")\n",
    "print(\" \")\n",
    "print(\"a* = \",vect_recip_standard.a)\n",
    "print(\"b* = \",vect_recip_standard.b)\n",
    "print(\"c* = \",vect_recip_standard.c)\n",
    "print(\" \")\n",
    "\n",
    "#vecteur du reseau récirpoque cristallographique (avec aucun facteur 2*pi)\n",
    "vect_recip_crist = structure.lattice.reciprocal_lattice_crystallographic\n",
    "print(\"Vecteurs de base du réseau réciproque cristallographique : \")\n",
    "print(vect_recip_crist)"
   ]
  },
  {
   "cell_type": "code",
   "execution_count": 113,
   "id": "fossil-uruguay",
   "metadata": {},
   "outputs": [
    {
     "name": "stdout",
     "output_type": "stream",
     "text": [
      "type de maille: hexagonal\n"
     ]
    }
   ],
   "source": [
    "#type de maille\n",
    "type_maille = SpacegroupAnalyzer(structure).get_lattice_type( )\n",
    "print(\"type de maille:\",type_maille)"
   ]
  },
  {
   "cell_type": "code",
   "execution_count": 114,
   "id": "protective-technology",
   "metadata": {},
   "outputs": [
    {
     "name": "stdout",
     "output_type": "stream",
     "text": [
      "système cristallin: hexagonal\n"
     ]
    }
   ],
   "source": [
    "#système cristallin\n",
    "system_crist = SpacegroupAnalyzer(structure).get_crystal_system( )\n",
    "print(\"système cristallin:\",system_crist)\n",
    "\n",
    "#ou bien:\n",
    "#syst_crist = m.query(criteria={\"task_id\": mp}, properties=[\"crystal_system\"])\n",
    "#print(syst_crist)"
   ]
  },
  {
   "cell_type": "code",
   "execution_count": 115,
   "id": "small-occasion",
   "metadata": {},
   "outputs": [
    {
     "name": "stdout",
     "output_type": "stream",
     "text": [
      "groupe ponctuel: -6m2\n"
     ]
    }
   ],
   "source": [
    "#groupe ponctuel\n",
    "gponctuel = SpacegroupAnalyzer(structure).get_point_group_symbol()\n",
    "print(\"groupe ponctuel:\",gponctuel)\n",
    "\n",
    "#ou bien:\n",
    "#gponctuel = m.query(criteria={\"task_id\": mp}, properties=[\"spacegroup.point_group\"])\n",
    "#print(\"groupe ponctuel:\",gponctuel)"
   ]
  },
  {
   "cell_type": "code",
   "execution_count": 116,
   "id": "binary-poverty",
   "metadata": {},
   "outputs": [],
   "source": [
    "#obtenir toutes les données sur le matériau\n",
    "#data = m.get_data(mp)\n",
    "#print(data)\n",
    "#print(structure)"
   ]
  }
 ],
 "metadata": {
  "kernelspec": {
   "display_name": "Python 3",
   "language": "python",
   "name": "python3"
  },
  "language_info": {
   "codemirror_mode": {
    "name": "ipython",
    "version": 3
   },
   "file_extension": ".py",
   "mimetype": "text/x-python",
   "name": "python",
   "nbconvert_exporter": "python",
   "pygments_lexer": "ipython3",
   "version": "3.6.8"
  }
 },
 "nbformat": 4,
 "nbformat_minor": 5
}
